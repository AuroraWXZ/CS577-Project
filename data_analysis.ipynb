{
 "cells": [
  {
   "cell_type": "code",
   "execution_count": 1,
   "id": "7b3f1c7e-7ad8-44a5-81cd-9ef2b39350d6",
   "metadata": {},
   "outputs": [],
   "source": [
    "import pandas as pd"
   ]
  },
  {
   "cell_type": "code",
   "execution_count": 2,
   "id": "64446861-7160-48cf-a1c0-3decc8cbd697",
   "metadata": {},
   "outputs": [],
   "source": [
    "# Define the path to the data folder\n",
    "data_folder = \"data/\"\n",
    "\n",
    "# Read the train_set.csv file\n",
    "train_df = pd.read_csv(data_folder + \"train_set.csv\")\n",
    "\n",
    "# Read the test_set.csv file\n",
    "test_df = pd.read_csv(data_folder + \"test_set.csv\")\n",
    "\n",
    "# Read the valid_set.csv file\n",
    "valid_df = pd.read_csv(data_folder + \"valid_set.csv\")"
   ]
  },
  {
   "cell_type": "code",
   "execution_count": 4,
   "id": "b9ad44f8-a6c7-45ea-8b6c-4a8a0b77db11",
   "metadata": {},
   "outputs": [
    {
     "name": "stdout",
     "output_type": "stream",
     "text": [
      "Train Attribute Counts:\n",
      "{'TRAFFIC_CONTROL_DEVICE': {'NO CONTROLS': 343, 'TRAFFIC SIGNAL': 188, 'STOP SIGN/FLASHER': 51, 'UNKNOWN': 28, 'OTHER': 3, 'OTHER WARNING SIGN': 3, 'NO PASSING': 1, 'YIELD': 1}, 'WEATHER_CONDITION': {'CLEAR': 300, 'RAIN': 169, 'UNKNOWN': 73, 'FOG/SMOKE/HAZE': 31, 'CLOUDY/OVERCAST': 31, 'FREEZING RAIN/DRIZZLE': 10, 'OTHER': 2, 'SLEET/HAIL': 1, 'SNOW': 1}, 'LIGHTING_CONDITION': {'DARKNESS, LIGHTED ROAD': 259, 'DAYLIGHT': 248, 'UNKNOWN': 43, 'DARKNESS': 41, 'DUSK': 16, 'DAWN': 11}, 'ALIGNMENT': {'STRAIGHT AND LEVEL': 600, 'STRAIGHT ON GRADE': 8, 'CURVE, LEVEL': 8, 'STRAIGHT ON HILLCREST': 1, 'CURVE ON GRADE': 1}, 'ROADWAY_SURFACE_COND': {'WET': 270, 'DRY': 259, 'UNKNOWN': 86, 'OTHER': 3}, 'POSTED_SPEED_LIMIT': {30: 447, 25: 48, 35: 45, 20: 26, 15: 25, 10: 14, 40: 6, 45: 5, 55: 1, 0: 1}, 'TRAFFICWAY_TYPE': {'NOT DIVIDED': 241, 'FOUR WAY': 85, 'ONE-WAY': 80, 'DIVIDED - W/MEDIAN (NOT RAISED)': 76, 'PARKING LOT': 38, 'DIVIDED - W/MEDIAN BARRIER': 29, 'OTHER': 22, 'T-INTERSECTION': 15, 'ALLEY': 9, 'UNKNOWN': 7, 'FIVE POINT, OR MORE': 5, 'CENTER TURN LANE': 3, 'UNKNOWN INTERSECTION TYPE': 3, 'DRIVEWAY': 2, 'NOT REPORTED': 2, 'RAMP': 1}, 'CRASH_TYPE': {'NO INJURY / DRIVE AWAY': 411, 'INJURY AND / OR TOW DUE TO CRASH': 207}, 'DAMAGE': {'OVER $1,500': 440, '$501 - $1,500': 119, '$500 OR LESS': 59}, 'MOST_SEVERE_INJURY': {'NO INDICATION OF INJURY': 514, 'NONINCAPACITATING INJURY': 56, 'REPORTED, NOT EVIDENT': 26, 'INCAPACITATING INJURY': 16, 'FATAL': 3}, 'INJURIES_TOTAL': {0.0: 514, 1.0: 73, 2.0: 19, 3.0: 7, 4.0: 2}}\n",
      "\n",
      "Test Attribute Counts:\n",
      "{'TRAFFIC_CONTROL_DEVICE': {'NO CONTROLS': 97, 'TRAFFIC SIGNAL': 53, 'STOP SIGN/FLASHER': 17, 'UNKNOWN': 8, 'OTHER': 1, 'RAILROAD CROSSING GATE': 1}, 'WEATHER_CONDITION': {'CLEAR': 102, 'RAIN': 40, 'UNKNOWN': 19, 'FOG/SMOKE/HAZE': 11, 'CLOUDY/OVERCAST': 3, 'OTHER': 2}, 'LIGHTING_CONDITION': {'DARKNESS, LIGHTED ROAD': 72, 'DAYLIGHT': 54, 'DARKNESS': 19, 'UNKNOWN': 15, 'DUSK': 10, 'DAWN': 7}, 'ALIGNMENT': {'STRAIGHT AND LEVEL': 174, 'CURVE, LEVEL': 3}, 'ROADWAY_SURFACE_COND': {'DRY': 76, 'WET': 69, 'UNKNOWN': 31, 'OTHER': 1}, 'POSTED_SPEED_LIMIT': {30: 141, 20: 11, 25: 8, 10: 6, 15: 6, 35: 5}, 'TRAFFICWAY_TYPE': {'NOT DIVIDED': 72, 'FOUR WAY': 24, 'ONE-WAY': 20, 'DIVIDED - W/MEDIAN (NOT RAISED)': 20, 'PARKING LOT': 11, 'DIVIDED - W/MEDIAN BARRIER': 10, 'OTHER': 6, 'T-INTERSECTION': 5, 'ALLEY': 3, 'UNKNOWN': 3, 'UNKNOWN INTERSECTION TYPE': 2, 'DRIVEWAY': 1}, 'CRASH_TYPE': {'NO INJURY / DRIVE AWAY': 113, 'INJURY AND / OR TOW DUE TO CRASH': 64}, 'DAMAGE': {'OVER $1,500': 137, '$501 - $1,500': 28, '$500 OR LESS': 12}, 'MOST_SEVERE_INJURY': {'NO INDICATION OF INJURY': 145, 'NONINCAPACITATING INJURY': 20, 'INCAPACITATING INJURY': 5, 'REPORTED, NOT EVIDENT': 5, 'FATAL': 1}, 'INJURIES_TOTAL': {0.0: 145, 1.0: 16, 2.0: 9, 3.0: 4, 4.0: 2}}\n",
      "\n",
      "Valid Attribute Counts:\n",
      "{'TRAFFIC_CONTROL_DEVICE': {'NO CONTROLS': 56, 'TRAFFIC SIGNAL': 14, 'UNKNOWN': 10, 'OTHER': 4, 'STOP SIGN/FLASHER': 4}, 'WEATHER_CONDITION': {'CLEAR': 36, 'RAIN': 18, 'UNKNOWN': 18, 'FOG/SMOKE/HAZE': 7, 'CLOUDY/OVERCAST': 6, 'OTHER': 2, 'FREEZING RAIN/DRIZZLE': 1}, 'LIGHTING_CONDITION': {'DAYLIGHT': 33, 'DARKNESS, LIGHTED ROAD': 26, 'UNKNOWN': 13, 'DARKNESS': 9, 'DAWN': 4, 'DUSK': 3}, 'ALIGNMENT': {'STRAIGHT AND LEVEL': 86, 'STRAIGHT ON HILLCREST': 1, 'CURVE, LEVEL': 1}, 'ROADWAY_SURFACE_COND': {'DRY': 33, 'WET': 32, 'UNKNOWN': 23}, 'POSTED_SPEED_LIMIT': {30: 63, 20: 8, 35: 5, 25: 4, 15: 3, 40: 2, 10: 1, 5: 1, 45: 1}, 'TRAFFICWAY_TYPE': {'NOT DIVIDED': 39, 'DIVIDED - W/MEDIAN (NOT RAISED)': 15, 'ONE-WAY': 11, 'PARKING LOT': 6, 'FOUR WAY': 5, 'DIVIDED - W/MEDIAN BARRIER': 5, 'OTHER': 3, 'UNKNOWN': 2, 'T-INTERSECTION': 1, 'ALLEY': 1}, 'CRASH_TYPE': {'NO INJURY / DRIVE AWAY': 63, 'INJURY AND / OR TOW DUE TO CRASH': 25}, 'DAMAGE': {'OVER $1,500': 60, '$501 - $1,500': 19, '$500 OR LESS': 9}, 'MOST_SEVERE_INJURY': {'NO INDICATION OF INJURY': 76, 'REPORTED, NOT EVIDENT': 7, 'NONINCAPACITATING INJURY': 3, 'INCAPACITATING INJURY': 1, 'FATAL': 1}, 'INJURIES_TOTAL': {0: 76, 1: 10, 2: 1, 3: 1}}\n"
     ]
    }
   ],
   "source": [
    "# Initialize dictionaries to store attribute counts for each dataset\n",
    "train_attribute_counts = {}\n",
    "test_attribute_counts = {}\n",
    "valid_attribute_counts = {}\n",
    "\n",
    "# Function to count attribute values and store in dictionaries\n",
    "def count_attributes(df, attribute_counts):\n",
    "    for column in df.columns[:-1]:\n",
    "        attribute_counts[column] = df[column].value_counts().to_dict()\n",
    "\n",
    "# Count attributes for each dataset\n",
    "count_attributes(train_df, train_attribute_counts)\n",
    "count_attributes(test_df, test_attribute_counts)\n",
    "count_attributes(valid_df, valid_attribute_counts)\n",
    "\n",
    "# Print the dictionaries\n",
    "print(\"Train Attribute Counts:\")\n",
    "print(train_attribute_counts)\n",
    "print(\"\\nTest Attribute Counts:\")\n",
    "print(test_attribute_counts)\n",
    "print(\"\\nValid Attribute Counts:\")\n",
    "print(valid_attribute_counts)"
   ]
  },
  {
   "cell_type": "code",
   "execution_count": 5,
   "id": "578e54e9-aea2-40fa-9931-231676452dda",
   "metadata": {},
   "outputs": [
    {
     "name": "stdout",
     "output_type": "stream",
     "text": [
      "Values in TRAFFIC_CONTROL_DEVICE not in train:\n",
      "['RAILROAD CROSSING GATE']\n",
      "Values in POSTED_SPEED_LIMIT not in train:\n",
      "[5]\n"
     ]
    }
   ],
   "source": [
    "def values_not_in_train(train_counts, test_counts, valid_counts):\n",
    "    not_in_train = {}\n",
    "    for attribute, test_attribute_values in test_counts.items():\n",
    "        not_in_train[attribute] = []\n",
    "        for value, count in test_attribute_values.items():\n",
    "            if value not in train_counts[attribute]:\n",
    "                not_in_train[attribute].append(value)\n",
    "    for attribute, valid_attribute_values in valid_counts.items():\n",
    "        for value, count in valid_attribute_values.items():\n",
    "            if value not in train_counts[attribute] and value not in not_in_train[attribute]:\n",
    "                not_in_train[attribute].append(value)\n",
    "    for attribute, values in not_in_train.items():\n",
    "        if len(values) > 0:\n",
    "            print(f\"Values in {attribute} not in train:\")\n",
    "            print(values)\n",
    "\n",
    "# Usage example\n",
    "values_not_in_train(train_attribute_counts, test_attribute_counts, valid_attribute_counts)"
   ]
  }
 ],
 "metadata": {
  "kernelspec": {
   "display_name": "Python 3 (ipykernel)",
   "language": "python",
   "name": "python3"
  },
  "language_info": {
   "codemirror_mode": {
    "name": "ipython",
    "version": 3
   },
   "file_extension": ".py",
   "mimetype": "text/x-python",
   "name": "python",
   "nbconvert_exporter": "python",
   "pygments_lexer": "ipython3",
   "version": "3.11.8"
  }
 },
 "nbformat": 4,
 "nbformat_minor": 5
}
